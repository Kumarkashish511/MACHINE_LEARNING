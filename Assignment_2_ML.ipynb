{
 "cells": [
  {
   "cell_type": "code",
   "execution_count": 24,
   "id": "6d5e4f31-fbaa-464c-b20a-97df2e8ebcb8",
   "metadata": {},
   "outputs": [
    {
     "name": "stdout",
     "output_type": "stream",
     "text": [
      "  Refund Marital Status Taxable Income Cheat\n",
      "0    Yes         Single           125K    No\n",
      "1     No        Married           100K    No\n",
      "2     No         Single            70K    No\n",
      "3    Yes        Married           120K    No\n",
      "4     No       Divorced            95K   Yes\n",
      "5     No        Married            60K    No\n",
      "6    Yes       Divorced           220K    No\n",
      "7     No         Single            85K   Yes\n",
      "8     No        Married            75K    No\n",
      "9     No         Single            90K   Yes\n"
     ]
    }
   ],
   "source": [
    "import pandas as pd\n",
    "\n",
    "data={\n",
    "    'Refund': ['Yes', 'No', 'No', 'Yes', 'No', 'No', 'Yes', 'No', 'No', 'No'],\n",
    "    'Marital Status': ['Single', 'Married', 'Single', 'Married', 'Divorced', 'Married', 'Divorced', 'Single', 'Married', 'Single'],\n",
    "    'Taxable Income': ['125K', '100K', '70K', '120K', '95K', '60K', '220K', '85K', '75K', '90K'],\n",
    "    'Cheat': ['No', 'No', 'No', 'No', 'Yes', 'No', 'No', 'Yes', 'No', 'Yes']\n",
    "}\n",
    "\n",
    "df=pd.DataFrame(data)\n",
    "print(df)\n",
    "\n",
    "    "
   ]
  },
  {
   "cell_type": "code",
   "execution_count": 25,
   "id": "da8d6214-ca09-4c3f-906d-8a4108facd3f",
   "metadata": {},
   "outputs": [
    {
     "name": "stdout",
     "output_type": "stream",
     "text": [
      "  Refund Marital Status Taxable Income Cheat\n",
      "0    Yes         Single           125K    No\n",
      "4     No       Divorced            95K   Yes\n",
      "7     No         Single            85K   Yes\n",
      "8     No        Married            75K    No\n"
     ]
    }
   ],
   "source": [
    "rows = df.loc[[0,4,7,8]]\n",
    "print(rows)\n"
   ]
  },
  {
   "cell_type": "code",
   "execution_count": 26,
   "id": "fb08b1c0-5aa1-4540-b3da-3b3ad17f30ea",
   "metadata": {},
   "outputs": [
    {
     "name": "stdout",
     "output_type": "stream",
     "text": [
      "  Refund Marital Status Taxable Income Cheat\n",
      "3    Yes        Married           120K    No\n",
      "4     No       Divorced            95K   Yes\n",
      "5     No        Married            60K    No\n",
      "6    Yes       Divorced           220K    No\n",
      "7     No         Single            85K   Yes\n"
     ]
    }
   ],
   "source": [
    "row=df.iloc[3:8]\n",
    "print(row)"
   ]
  },
  {
   "cell_type": "code",
   "execution_count": 27,
   "id": "4e010373-5a00-47ce-b52f-18da3dde9e46",
   "metadata": {},
   "outputs": [
    {
     "name": "stdout",
     "output_type": "stream",
     "text": [
      "  Taxable Income Cheat\n",
      "4            95K   Yes\n",
      "5            60K    No\n",
      "6           220K    No\n",
      "7            85K   Yes\n",
      "8            75K    No\n"
     ]
    }
   ],
   "source": [
    "row_column=df.iloc[4:9 , 2:5]\n",
    "print(row_column)"
   ]
  },
  {
   "cell_type": "code",
   "execution_count": 28,
   "id": "c08003b7-1e71-4444-b8bb-2f71db86ebc2",
   "metadata": {},
   "outputs": [
    {
     "name": "stdout",
     "output_type": "stream",
     "text": [
      "  Marital Status Taxable Income Cheat\n",
      "0         Single           125K    No\n",
      "1        Married           100K    No\n",
      "2         Single            70K    No\n",
      "3        Married           120K    No\n",
      "4       Divorced            95K   Yes\n",
      "5        Married            60K    No\n",
      "6       Divorced           220K    No\n",
      "7         Single            85K   Yes\n",
      "8        Married            75K    No\n",
      "9         Single            90K   Yes\n"
     ]
    }
   ],
   "source": [
    "column=df.iloc[:, 1:4]\n",
    "print(column)"
   ]
  },
  {
   "cell_type": "code",
   "execution_count": 30,
   "id": "7a04e963-5435-46c7-b5fc-624193103525",
   "metadata": {},
   "outputs": [
    {
     "name": "stdout",
     "output_type": "stream",
     "text": [
      "['Iris.csv', 'database.sqlite']\n",
      "   Id  SepalLengthCm  SepalWidthCm  PetalLengthCm  PetalWidthCm      Species\n",
      "0   1            5.1           3.5            1.4           0.2  Iris-setosa\n",
      "1   2            4.9           3.0            1.4           0.2  Iris-setosa\n",
      "2   3            4.7           3.2            1.3           0.2  Iris-setosa\n",
      "3   4            4.6           3.1            1.5           0.2  Iris-setosa\n",
      "4   5            5.0           3.6            1.4           0.2  Iris-setosa\n"
     ]
    }
   ],
   "source": [
    "import pandas as pd\n",
    "import zipfile\n",
    "\n",
    "with zipfile.ZipFile(\"iris.zip\", 'r') as z:\n",
    "    print(z.namelist())\n",
    "    \n",
    "    with z.open(\"Iris.csv\") as f:\n",
    "        df = pd.read_csv(f)\n",
    "\n",
    "print(df.head())\n"
   ]
  },
  {
   "cell_type": "code",
   "execution_count": 31,
   "id": "2e80fb2a-1a7e-40eb-8617-14a2564c0149",
   "metadata": {},
   "outputs": [
    {
     "name": "stdout",
     "output_type": "stream",
     "text": [
      "   Id  SepalLengthCm  SepalWidthCm  PetalLengthCm  PetalWidthCm      Species\n",
      "0   1            5.1           3.5            1.4           0.2  Iris-setosa\n",
      "1   2            4.9           3.0            1.4           0.2  Iris-setosa\n",
      "2   3            4.7           3.2            1.3           0.2  Iris-setosa\n",
      "3   4            4.6           3.1            1.5           0.2  Iris-setosa\n",
      "4   5            5.0           3.6            1.4           0.2  Iris-setosa\n"
     ]
    }
   ],
   "source": [
    "df=pd.read_csv(\"Iris.csv\")\n",
    "print(df.head())"
   ]
  },
  {
   "cell_type": "code",
   "execution_count": 37,
   "id": "44fccaae-a515-4c75-8bc0-dccc3ddb1d70",
   "metadata": {},
   "outputs": [
    {
     "name": "stdout",
     "output_type": "stream",
     "text": [
      "   Id  SepalLengthCm  PetalLengthCm  PetalWidthCm      Species\n",
      "0   1            5.1            1.4           0.2  Iris-setosa\n",
      "1   2            4.9            1.4           0.2  Iris-setosa\n",
      "2   3            4.7            1.3           0.2  Iris-setosa\n",
      "3   4            4.6            1.5           0.2  Iris-setosa\n",
      "5   6            5.4            1.7           0.4  Iris-setosa\n"
     ]
    }
   ],
   "source": [
    "df=pd.read_csv(\"Iris.csv\")\n",
    "df=df.drop(index=4)\n",
    "df=df.drop(df.columns[2],axis=1)\n",
    "print(df.head())"
   ]
  },
  {
   "cell_type": "code",
   "execution_count": 38,
   "id": "6893df23-4da9-4219-a2c1-c27cea8169d4",
   "metadata": {},
   "outputs": [],
   "source": [
    "data = {\n",
    "    'Employee_ID': [101, 102, 103, 104, 105],\n",
    "    'Name': ['Alice', 'Bob', 'Charlie', 'Diana', 'Edward'],\n",
    "    'Department': ['HR', 'IT', 'IT', 'Marketing', 'Sales'],\n",
    "    'Age': [29, 34, 41, 28, 38],\n",
    "    'Salary': [50000, 70000, 65000, 55000, 60000],\n",
    "    'Years_of_Experience': [4, 8, 10, 3, 12],\n",
    "    'Joining_Date': ['2020-03-15', '2017-07-19', '2013-06-01', '2021-02-10', '2010-11-25'],\n",
    "    'Gender': ['Female', 'Male', 'Male', 'Female', 'Male'],\n",
    "    'Bonus': [5000, 7000, 6000, 4500, 5000],\n",
    "    'Rating': [4.5, 4.0, 3.8, 4.7, 3.5]\n",
    "}\n",
    "\n",
    "df=pd.DataFrame(data)\n",
    "\n",
    "df.to_csv(\"employees.csv\",index=False)"
   ]
  },
  {
   "cell_type": "code",
   "execution_count": 39,
   "id": "b73919cf-ae98-420f-855b-7673cb5e236a",
   "metadata": {},
   "outputs": [
    {
     "name": "stdout",
     "output_type": "stream",
     "text": [
      "(5, 10)\n"
     ]
    }
   ],
   "source": [
    "df=pd.read_csv(\"employees.csv\")\n",
    "shape = df.shape\n",
    "print(shape)"
   ]
  },
  {
   "cell_type": "code",
   "execution_count": 44,
   "id": "8a4eba94-371e-4fdb-9764-d12ede6f1120",
   "metadata": {},
   "outputs": [
    {
     "name": "stdout",
     "output_type": "stream",
     "text": [
      "<class 'pandas.core.frame.DataFrame'>\n",
      "RangeIndex: 5 entries, 0 to 4\n",
      "Data columns (total 10 columns):\n",
      " #   Column               Non-Null Count  Dtype  \n",
      "---  ------               --------------  -----  \n",
      " 0   Employee_ID          5 non-null      int64  \n",
      " 1   Name                 5 non-null      object \n",
      " 2   Department           5 non-null      object \n",
      " 3   Age                  5 non-null      int64  \n",
      " 4   Salary               5 non-null      int64  \n",
      " 5   Years_of_Experience  5 non-null      int64  \n",
      " 6   Joining_Date         5 non-null      object \n",
      " 7   Gender               5 non-null      object \n",
      " 8   Bonus                5 non-null      int64  \n",
      " 9   Rating               5 non-null      float64\n",
      "dtypes: float64(1), int64(5), object(4)\n",
      "memory usage: 532.0+ bytes\n",
      "None\n"
     ]
    }
   ],
   "source": [
    "info=df.info()\n",
    "print(info)"
   ]
  },
  {
   "cell_type": "code",
   "execution_count": 45,
   "id": "5fb2865a-f02f-4e9d-a65f-5055e565b732",
   "metadata": {},
   "outputs": [
    {
     "name": "stdout",
     "output_type": "stream",
     "text": [
      "        Employee_ID   Name Department        Age       Salary  \\\n",
      "count      5.000000      5          5   5.000000      5.00000   \n",
      "unique          NaN      5          4        NaN          NaN   \n",
      "top             NaN  Alice         IT        NaN          NaN   \n",
      "freq            NaN      1          2        NaN          NaN   \n",
      "mean     103.000000    NaN        NaN  34.000000  60000.00000   \n",
      "std        1.581139    NaN        NaN   5.612486   7905.69415   \n",
      "min      101.000000    NaN        NaN  28.000000  50000.00000   \n",
      "25%      102.000000    NaN        NaN  29.000000  55000.00000   \n",
      "50%      103.000000    NaN        NaN  34.000000  60000.00000   \n",
      "75%      104.000000    NaN        NaN  38.000000  65000.00000   \n",
      "max      105.000000    NaN        NaN  41.000000  70000.00000   \n",
      "\n",
      "        Years_of_Experience Joining_Date Gender   Bonus    Rating  \n",
      "count              5.000000            5      5     5.0  5.000000  \n",
      "unique                  NaN            5      2     NaN       NaN  \n",
      "top                     NaN   2020-03-15   Male     NaN       NaN  \n",
      "freq                    NaN            1      3     NaN       NaN  \n",
      "mean               7.400000          NaN    NaN  5500.0  4.100000  \n",
      "std                3.847077          NaN    NaN  1000.0  0.494975  \n",
      "min                3.000000          NaN    NaN  4500.0  3.500000  \n",
      "25%                4.000000          NaN    NaN  5000.0  3.800000  \n",
      "50%                8.000000          NaN    NaN  5000.0  4.000000  \n",
      "75%               10.000000          NaN    NaN  6000.0  4.500000  \n",
      "max               12.000000          NaN    NaN  7000.0  4.700000  \n"
     ]
    }
   ],
   "source": [
    "print(df.describe(include = 'all'))"
   ]
  },
  {
   "cell_type": "code",
   "execution_count": 46,
   "id": "30cf3319-ae1d-4a53-bfba-87d942a899dd",
   "metadata": {},
   "outputs": [
    {
     "name": "stdout",
     "output_type": "stream",
     "text": [
      "   Employee_ID     Name Department  Age  Salary  Years_of_Experience  \\\n",
      "0          101    Alice         HR   29   50000                    4   \n",
      "1          102      Bob         IT   34   70000                    8   \n",
      "2          103  Charlie         IT   41   65000                   10   \n",
      "3          104    Diana  Marketing   28   55000                    3   \n",
      "4          105   Edward      Sales   38   60000                   12   \n",
      "\n",
      "  Joining_Date  Gender  Bonus  Rating  \n",
      "0   2020-03-15  Female   5000     4.5  \n",
      "1   2017-07-19    Male   7000     4.0  \n",
      "2   2013-06-01    Male   6000     3.8  \n",
      "3   2021-02-10  Female   4500     4.7  \n",
      "4   2010-11-25    Male   5000     3.5  \n",
      "   Employee_ID     Name Department  Age  Salary  Years_of_Experience  \\\n",
      "2          103  Charlie         IT   41   65000                   10   \n",
      "3          104    Diana  Marketing   28   55000                    3   \n",
      "4          105   Edward      Sales   38   60000                   12   \n",
      "\n",
      "  Joining_Date  Gender  Bonus  Rating  \n",
      "2   2013-06-01    Male   6000     3.8  \n",
      "3   2021-02-10  Female   4500     4.7  \n",
      "4   2010-11-25    Male   5000     3.5  \n"
     ]
    }
   ],
   "source": [
    "print(df.head())\n",
    "print(df.tail(3))"
   ]
  },
  {
   "cell_type": "code",
   "execution_count": 50,
   "id": "fd45925c-68b3-4b91-b962-1699c177481a",
   "metadata": {},
   "outputs": [
    {
     "name": "stdout",
     "output_type": "stream",
     "text": [
      "60000.0\n",
      "27500\n",
      "28\n",
      "4.7\n"
     ]
    }
   ],
   "source": [
    "avg_salary=df['Salary'].mean()\n",
    "bonus=df['Bonus'].sum()\n",
    "young_emp=df['Age'].min()\n",
    "highest_rating=df['Rating'].max()\n",
    "print(avg_salary)\n",
    "print(bonus)\n",
    "print(young_emp)\n",
    "print(highest_rating)"
   ]
  },
  {
   "cell_type": "code",
   "execution_count": 58,
   "id": "58edaa43-3a39-415b-93d1-b1b5695d83cd",
   "metadata": {},
   "outputs": [
    {
     "name": "stdout",
     "output_type": "stream",
     "text": [
      "   Employee_ID     Name Department  Age  Salary  Years_of_Experience  \\\n",
      "1          102      Bob         IT   34   70000                    8   \n",
      "2          103  Charlie         IT   41   65000                   10   \n",
      "4          105   Edward      Sales   38   60000                   12   \n",
      "3          104    Diana  Marketing   28   55000                    3   \n",
      "0          101    Alice         HR   29   50000                    4   \n",
      "\n",
      "  Joining_Date  Gender  Bonus  Rating  \n",
      "1   2017-07-19    Male   7000     4.0  \n",
      "2   2013-06-01    Male   6000     3.8  \n",
      "4   2010-11-25    Male   5000     3.5  \n",
      "3   2021-02-10  Female   4500     4.7  \n",
      "0   2020-03-15  Female   5000     4.5  \n"
     ]
    }
   ],
   "source": [
    "sorted_data=df.sort_values(by='Salary',ascending=False)\n",
    "print(sorted_data)"
   ]
  },
  {
   "cell_type": "code",
   "execution_count": 59,
   "id": "95be2a32-a419-41b7-9f3d-aa870f5c4835",
   "metadata": {},
   "outputs": [],
   "source": [
    "def categorize_rating(rating):\n",
    "    if rating >= 4.5:\n",
    "        return 'Excellent'\n",
    "    elif rating >= 4.0:\n",
    "        return 'Good'\n",
    "    else:\n",
    "        return 'Average'\n",
    "\n",
    "df['Performance'] = df['Rating'].apply(categorize_rating)"
   ]
  },
  {
   "cell_type": "code",
   "execution_count": 60,
   "id": "73b93af6-0c79-484b-b05e-95210c3e0bb2",
   "metadata": {},
   "outputs": [
    {
     "name": "stdout",
     "output_type": "stream",
     "text": [
      "Employee_ID            0\n",
      "Name                   0\n",
      "Department             0\n",
      "Age                    0\n",
      "Salary                 0\n",
      "Years_of_Experience    0\n",
      "Joining_Date           0\n",
      "Gender                 0\n",
      "Bonus                  0\n",
      "Rating                 0\n",
      "Performance            0\n",
      "dtype: int64\n"
     ]
    }
   ],
   "source": [
    "print(df.isnull().sum())"
   ]
  },
  {
   "cell_type": "code",
   "execution_count": 61,
   "id": "92a113e2-4200-4919-8403-89522842e9d0",
   "metadata": {},
   "outputs": [],
   "source": [
    "df.rename(columns={'Employee_ID': 'ID'}, inplace=True)"
   ]
  },
  {
   "cell_type": "code",
   "execution_count": 62,
   "id": "04f4a56a-b156-4e78-abec-44662d14faa0",
   "metadata": {},
   "outputs": [
    {
     "name": "stdout",
     "output_type": "stream",
     "text": [
      "    ID     Name Department  Age  Salary  Years_of_Experience Joining_Date  \\\n",
      "1  102      Bob         IT   34   70000                    8   2017-07-19   \n",
      "2  103  Charlie         IT   41   65000                   10   2013-06-01   \n",
      "4  105   Edward      Sales   38   60000                   12   2010-11-25   \n",
      "\n",
      "  Gender  Bonus  Rating Performance  \n",
      "1   Male   7000     4.0        Good  \n",
      "2   Male   6000     3.8     Average  \n",
      "4   Male   5000     3.5     Average  \n",
      "    ID     Name Department  Age  Salary  Years_of_Experience Joining_Date  \\\n",
      "1  102      Bob         IT   34   70000                    8   2017-07-19   \n",
      "2  103  Charlie         IT   41   65000                   10   2013-06-01   \n",
      "\n",
      "  Gender  Bonus  Rating Performance  \n",
      "1   Male   7000     4.0        Good  \n",
      "2   Male   6000     3.8     Average  \n"
     ]
    }
   ],
   "source": [
    "exp_filter = df[df['Years_of_Experience'] > 5]\n",
    "it_filter = df[df['Department'] == 'IT']\n",
    "print(exp_filter)\n",
    "print(it_filter)"
   ]
  },
  {
   "cell_type": "code",
   "execution_count": 63,
   "id": "3083bf56-52eb-4068-9ea7-87a62304d01a",
   "metadata": {},
   "outputs": [
    {
     "name": "stdout",
     "output_type": "stream",
     "text": [
      "    ID     Name Department  Age  Salary  Years_of_Experience Joining_Date  \\\n",
      "0  101    Alice         HR   29   50000                    4   2020-03-15   \n",
      "1  102      Bob         IT   34   70000                    8   2017-07-19   \n",
      "2  103  Charlie         IT   41   65000                   10   2013-06-01   \n",
      "3  104    Diana  Marketing   28   55000                    3   2021-02-10   \n",
      "4  105   Edward      Sales   38   60000                   12   2010-11-25   \n",
      "\n",
      "   Gender  Bonus  Rating Performance     Tax  \n",
      "0  Female   5000     4.5   Excellent  5000.0  \n",
      "1    Male   7000     4.0        Good  7000.0  \n",
      "2    Male   6000     3.8     Average  6500.0  \n",
      "3  Female   4500     4.7   Excellent  5500.0  \n",
      "4    Male   5000     3.5     Average  6000.0  \n"
     ]
    }
   ],
   "source": [
    "df['Tax'] = df['Salary'] * 0.10\n",
    "print(df)"
   ]
  },
  {
   "cell_type": "code",
   "execution_count": 68,
   "id": "64701318-41c3-4bf5-a7b1-485abde62c82",
   "metadata": {},
   "outputs": [
    {
     "name": "stdout",
     "output_type": "stream",
     "text": [
      "Modified DataFrame saved to 'modified_employees.csv'\n"
     ]
    }
   ],
   "source": [
    "df.to_csv(\"modified_employees.csv\", index=False)\n",
    "print(\"Modified DataFrame saved to 'modified_employees.csv'\")\n"
   ]
  }
 ],
 "metadata": {
  "kernelspec": {
   "display_name": "Python 3 (ipykernel)",
   "language": "python",
   "name": "python3"
  },
  "language_info": {
   "codemirror_mode": {
    "name": "ipython",
    "version": 3
   },
   "file_extension": ".py",
   "mimetype": "text/x-python",
   "name": "python",
   "nbconvert_exporter": "python",
   "pygments_lexer": "ipython3",
   "version": "3.13.5"
  }
 },
 "nbformat": 4,
 "nbformat_minor": 5
}
