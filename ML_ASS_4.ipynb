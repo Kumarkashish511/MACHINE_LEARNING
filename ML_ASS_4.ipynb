{
 "cells": [
  {
   "cell_type": "code",
   "execution_count": 2,
   "id": "d5eae700-a652-4354-9faf-50e426de7101",
   "metadata": {},
   "outputs": [
    {
     "name": "stdout",
     "output_type": "stream",
     "text": [
      "Scraping complete. Data saved to books.csv.\n"
     ]
    }
   ],
   "source": [
    "import requests\n",
    "from bs4 import BeautifulSoup\n",
    "import pandas as pd\n",
    "\n",
    "# Base URL\n",
    "BASE_URL = \"https://books.toscrape.com/catalogue/page-{}.html\"\n",
    "book_data = []\n",
    "\n",
    "# Helper function to convert star rating class to text\n",
    "def get_star_rating(tag):\n",
    "    rating_classes = {\n",
    "        \"One\": \"One\",\n",
    "        \"Two\": \"Two\",\n",
    "        \"Three\": \"Three\",\n",
    "        \"Four\": \"Four\",\n",
    "        \"Five\": \"Five\"\n",
    "    }\n",
    "    for cls in tag.get(\"class\", []):\n",
    "        if cls in rating_classes:\n",
    "            return rating_classes[cls]\n",
    "    return \"No Rating\"\n",
    "\n",
    "# Loop through all pages\n",
    "page = 1\n",
    "while True:\n",
    "    url = BASE_URL.format(page)\n",
    "    response = requests.get(url)\n",
    "    if response.status_code != 200:\n",
    "        break  # No more pages\n",
    "\n",
    "    soup = BeautifulSoup(response.text, \"html.parser\")\n",
    "    books = soup.select(\"article.product_pod\")\n",
    "\n",
    "    for book in books:\n",
    "        title = book.h3.a[\"title\"]\n",
    "        price = book.select_one(\"p.price_color\").text.strip()\n",
    "        availability = book.select_one(\"p.instock.availability\").text.strip()\n",
    "        star_rating = get_star_rating(book.select_one(\"p.star-rating\"))\n",
    "\n",
    "        book_data.append({\n",
    "            \"Title\": title,\n",
    "            \"Price\": price,\n",
    "            \"Availability\": availability,\n",
    "            \"Star Rating\": star_rating\n",
    "        })\n",
    "\n",
    "    page += 1\n",
    "\n",
    "# Create DataFrame and export to CSV\n",
    "df = pd.DataFrame(book_data)\n",
    "df.to_csv(\"books.csv\", index=False)\n",
    "print(\"Scraping complete. Data saved to books.csv.\")"
   ]
  },
  {
   "cell_type": "code",
   "execution_count": null,
   "id": "4dca40f7-6d12-46f9-b014-836c0b3ae29e",
   "metadata": {},
   "outputs": [],
   "source": []
  }
 ],
 "metadata": {
  "kernelspec": {
   "display_name": "Python 3 (ipykernel)",
   "language": "python",
   "name": "python3"
  },
  "language_info": {
   "codemirror_mode": {
    "name": "ipython",
    "version": 3
   },
   "file_extension": ".py",
   "mimetype": "text/x-python",
   "name": "python",
   "nbconvert_exporter": "python",
   "pygments_lexer": "ipython3",
   "version": "3.13.5"
  }
 },
 "nbformat": 4,
 "nbformat_minor": 5
}
